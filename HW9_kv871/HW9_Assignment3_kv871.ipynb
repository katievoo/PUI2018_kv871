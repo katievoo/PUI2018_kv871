{
 "cells": [
  {
   "cell_type": "markdown",
   "metadata": {},
   "source": [
    "**DATA: **"
   ]
  },
  {
   "cell_type": "code",
   "execution_count": 2,
   "metadata": {},
   "outputs": [
    {
     "name": "stdout",
     "output_type": "stream",
     "text": [
      "Populating the interactive namespace from numpy and matplotlib\n"
     ]
    }
   ],
   "source": [
    "from __future__  import print_function, division\n",
    "import pylab as pl\n",
    "import pandas as pd\n",
    "import numpy as np\n",
    "import os\n",
    "import sys\n",
    "from scipy import stats\n",
    "from scipy.optimize import minimize\n",
    "import statsmodels.api as sm\n",
    "import json\n",
    "import seaborn\n",
    "\n",
    "import statsmodels.formula.api as smf\n",
    "\n",
    "%pylab inline"
   ]
  },
  {
   "cell_type": "code",
   "execution_count": 3,
   "metadata": {},
   "outputs": [
    {
     "name": "stdout",
     "output_type": "stream",
     "text": [
      "PUIDATA /Users/katharinevoorhees/PUI2018/PUIdata\n"
     ]
    }
   ],
   "source": [
    "print(\"PUIDATA\", os.getenv(\"PUIDATA\"))"
   ]
  },
  {
   "cell_type": "code",
   "execution_count": 4,
   "metadata": {},
   "outputs": [],
   "source": [
    "firearms = pd.read_csv('https://serv.cusp.nyu.edu/~fbianco/PUIdata/WorldFirearmsMurdersAndOwnership.csv')"
   ]
  },
  {
   "cell_type": "code",
   "execution_count": 5,
   "metadata": {},
   "outputs": [],
   "source": [
    "firearms = pd.read_csv(os.getenv('PUIDATA')+'/World firearms murders and ownership - Sheet 1.csv')"
   ]
  },
  {
   "cell_type": "code",
   "execution_count": 13,
   "metadata": {},
   "outputs": [
    {
     "data": {
      "text/html": [
       "<div>\n",
       "<style scoped>\n",
       "    .dataframe tbody tr th:only-of-type {\n",
       "        vertical-align: middle;\n",
       "    }\n",
       "\n",
       "    .dataframe tbody tr th {\n",
       "        vertical-align: top;\n",
       "    }\n",
       "\n",
       "    .dataframe thead th {\n",
       "        text-align: right;\n",
       "    }\n",
       "</style>\n",
       "<table border=\"1\" class=\"dataframe\">\n",
       "  <thead>\n",
       "    <tr style=\"text-align: right;\">\n",
       "      <th></th>\n",
       "      <th>Country/Territory</th>\n",
       "      <th>ISO code</th>\n",
       "      <th>Source</th>\n",
       "      <th>% of homicides by firearm</th>\n",
       "      <th>Number of homicides by firearm</th>\n",
       "      <th>Homicide by firearm rate per 100,000 pop</th>\n",
       "      <th>Rank by rate of ownership</th>\n",
       "      <th>Average firearms per 100 people</th>\n",
       "      <th>Average total all civilian firearms</th>\n",
       "    </tr>\n",
       "  </thead>\n",
       "  <tbody>\n",
       "    <tr>\n",
       "      <th>0</th>\n",
       "      <td>Albania</td>\n",
       "      <td>AL</td>\n",
       "      <td>CTS</td>\n",
       "      <td>65.9</td>\n",
       "      <td>56.0</td>\n",
       "      <td>1.76</td>\n",
       "      <td>70.0</td>\n",
       "      <td>8.6</td>\n",
       "      <td>270000.0</td>\n",
       "    </tr>\n",
       "    <tr>\n",
       "      <th>1</th>\n",
       "      <td>Algeria</td>\n",
       "      <td>DZ</td>\n",
       "      <td>CTS</td>\n",
       "      <td>4.8</td>\n",
       "      <td>20.0</td>\n",
       "      <td>0.06</td>\n",
       "      <td>78.0</td>\n",
       "      <td>7.6</td>\n",
       "      <td>1900000.0</td>\n",
       "    </tr>\n",
       "    <tr>\n",
       "      <th>2</th>\n",
       "      <td>Angola</td>\n",
       "      <td>AO</td>\n",
       "      <td>NaN</td>\n",
       "      <td>NaN</td>\n",
       "      <td>NaN</td>\n",
       "      <td>NaN</td>\n",
       "      <td>34.0</td>\n",
       "      <td>17.3</td>\n",
       "      <td>2800000.0</td>\n",
       "    </tr>\n",
       "    <tr>\n",
       "      <th>3</th>\n",
       "      <td>Anguilla</td>\n",
       "      <td>AI</td>\n",
       "      <td>WHO-MDB</td>\n",
       "      <td>24.0</td>\n",
       "      <td>1.0</td>\n",
       "      <td>7.14</td>\n",
       "      <td>NaN</td>\n",
       "      <td>NaN</td>\n",
       "      <td>NaN</td>\n",
       "    </tr>\n",
       "    <tr>\n",
       "      <th>4</th>\n",
       "      <td>Argentina</td>\n",
       "      <td>AR</td>\n",
       "      <td>Ministry of Justice</td>\n",
       "      <td>52.0</td>\n",
       "      <td>1198.0</td>\n",
       "      <td>3.02</td>\n",
       "      <td>62.0</td>\n",
       "      <td>10.2</td>\n",
       "      <td>3950000.0</td>\n",
       "    </tr>\n",
       "  </tbody>\n",
       "</table>\n",
       "</div>"
      ],
      "text/plain": [
       "  Country/Territory ISO code               Source  % of homicides by firearm  \\\n",
       "0           Albania       AL                  CTS                       65.9   \n",
       "1           Algeria       DZ                  CTS                        4.8   \n",
       "2            Angola       AO                  NaN                        NaN   \n",
       "3          Anguilla       AI              WHO-MDB                       24.0   \n",
       "4         Argentina       AR  Ministry of Justice                       52.0   \n",
       "\n",
       "   Number of homicides by firearm  Homicide by firearm rate per 100,000 pop  \\\n",
       "0                            56.0                                      1.76   \n",
       "1                            20.0                                      0.06   \n",
       "2                             NaN                                       NaN   \n",
       "3                             1.0                                      7.14   \n",
       "4                          1198.0                                      3.02   \n",
       "\n",
       "   Rank by rate of ownership  Average firearms per 100 people  \\\n",
       "0                       70.0                              8.6   \n",
       "1                       78.0                              7.6   \n",
       "2                       34.0                             17.3   \n",
       "3                        NaN                              NaN   \n",
       "4                       62.0                             10.2   \n",
       "\n",
       "   Average total all civilian firearms  \n",
       "0                             270000.0  \n",
       "1                            1900000.0  \n",
       "2                            2800000.0  \n",
       "3                                  NaN  \n",
       "4                            3950000.0  "
      ]
     },
     "execution_count": 13,
     "metadata": {},
     "output_type": "execute_result"
    }
   ],
   "source": [
    "firearms.head()"
   ]
  },
  {
   "cell_type": "code",
   "execution_count": 12,
   "metadata": {},
   "outputs": [
    {
     "data": {
      "text/plain": [
       "(185, 9)"
      ]
     },
     "execution_count": 12,
     "metadata": {},
     "output_type": "execute_result"
    }
   ],
   "source": [
    "firearms.dropna()\n",
    "\n",
    "firearms.shape"
   ]
  },
  {
   "cell_type": "code",
   "execution_count": 94,
   "metadata": {},
   "outputs": [],
   "source": [
    "#firearms = firearms.drop(['Source','% of homicides by firearm', 'Homicide by firearm rate per 100,000 pop',\n",
    "                         # 'Rank by rate of ownership'])"
   ]
  },
  {
   "cell_type": "code",
   "execution_count": 14,
   "metadata": {},
   "outputs": [],
   "source": [
    "url='http://api.worldbank.org/v2/en/indicator/SP.POP.TOTL?downloadformat=excel'\n",
    "\n",
    "population = pd.read_excel(url, skiprows=3)"
   ]
  },
  {
   "cell_type": "code",
   "execution_count": 15,
   "metadata": {},
   "outputs": [
    {
     "data": {
      "text/html": [
       "<div>\n",
       "<style scoped>\n",
       "    .dataframe tbody tr th:only-of-type {\n",
       "        vertical-align: middle;\n",
       "    }\n",
       "\n",
       "    .dataframe tbody tr th {\n",
       "        vertical-align: top;\n",
       "    }\n",
       "\n",
       "    .dataframe thead th {\n",
       "        text-align: right;\n",
       "    }\n",
       "</style>\n",
       "<table border=\"1\" class=\"dataframe\">\n",
       "  <thead>\n",
       "    <tr style=\"text-align: right;\">\n",
       "      <th></th>\n",
       "      <th>Country Name</th>\n",
       "      <th>pop 2013</th>\n",
       "    </tr>\n",
       "  </thead>\n",
       "  <tbody>\n",
       "    <tr>\n",
       "      <th>0</th>\n",
       "      <td>Aruba</td>\n",
       "      <td>103187.0</td>\n",
       "    </tr>\n",
       "    <tr>\n",
       "      <th>1</th>\n",
       "      <td>Afghanistan</td>\n",
       "      <td>31731688.0</td>\n",
       "    </tr>\n",
       "    <tr>\n",
       "      <th>2</th>\n",
       "      <td>Angola</td>\n",
       "      <td>25998340.0</td>\n",
       "    </tr>\n",
       "    <tr>\n",
       "      <th>3</th>\n",
       "      <td>Albania</td>\n",
       "      <td>2895092.0</td>\n",
       "    </tr>\n",
       "    <tr>\n",
       "      <th>4</th>\n",
       "      <td>Andorra</td>\n",
       "      <td>80788.0</td>\n",
       "    </tr>\n",
       "  </tbody>\n",
       "</table>\n",
       "</div>"
      ],
      "text/plain": [
       "  Country Name    pop 2013\n",
       "0        Aruba    103187.0\n",
       "1  Afghanistan  31731688.0\n",
       "2       Angola  25998340.0\n",
       "3      Albania   2895092.0\n",
       "4      Andorra     80788.0"
      ]
     },
     "execution_count": 15,
     "metadata": {},
     "output_type": "execute_result"
    }
   ],
   "source": [
    "population = population[['Country Name','2013']]\n",
    "population = population.rename(columns={'2013':'pop 2013'})\n",
    "population.head()"
   ]
  },
  {
   "cell_type": "code",
   "execution_count": 16,
   "metadata": {},
   "outputs": [],
   "source": [
    "url1 = 'http://api.worldbank.org/v2/en/indicator/NY.GDP.MKTP.CD?downloadformat=excel'\n",
    "\n",
    "GDP = pd.read_excel(url1, skiprows=3)\n"
   ]
  },
  {
   "cell_type": "code",
   "execution_count": 17,
   "metadata": {},
   "outputs": [
    {
     "data": {
      "text/html": [
       "<div>\n",
       "<style scoped>\n",
       "    .dataframe tbody tr th:only-of-type {\n",
       "        vertical-align: middle;\n",
       "    }\n",
       "\n",
       "    .dataframe tbody tr th {\n",
       "        vertical-align: top;\n",
       "    }\n",
       "\n",
       "    .dataframe thead th {\n",
       "        text-align: right;\n",
       "    }\n",
       "</style>\n",
       "<table border=\"1\" class=\"dataframe\">\n",
       "  <thead>\n",
       "    <tr style=\"text-align: right;\">\n",
       "      <th></th>\n",
       "      <th>Country Name</th>\n",
       "      <th>Country Code</th>\n",
       "      <th>Indicator Name</th>\n",
       "      <th>Indicator Code</th>\n",
       "      <th>1960</th>\n",
       "      <th>1961</th>\n",
       "      <th>1962</th>\n",
       "      <th>1963</th>\n",
       "      <th>1964</th>\n",
       "      <th>1965</th>\n",
       "      <th>...</th>\n",
       "      <th>2008</th>\n",
       "      <th>2009</th>\n",
       "      <th>2010</th>\n",
       "      <th>2011</th>\n",
       "      <th>2012</th>\n",
       "      <th>2013</th>\n",
       "      <th>2014</th>\n",
       "      <th>2015</th>\n",
       "      <th>2016</th>\n",
       "      <th>2017</th>\n",
       "    </tr>\n",
       "  </thead>\n",
       "  <tbody>\n",
       "    <tr>\n",
       "      <th>0</th>\n",
       "      <td>Aruba</td>\n",
       "      <td>ABW</td>\n",
       "      <td>GDP (current US$)</td>\n",
       "      <td>NY.GDP.MKTP.CD</td>\n",
       "      <td>NaN</td>\n",
       "      <td>NaN</td>\n",
       "      <td>NaN</td>\n",
       "      <td>NaN</td>\n",
       "      <td>NaN</td>\n",
       "      <td>NaN</td>\n",
       "      <td>...</td>\n",
       "      <td>2.791961e+09</td>\n",
       "      <td>2.498933e+09</td>\n",
       "      <td>2.467704e+09</td>\n",
       "      <td>2.584464e+09</td>\n",
       "      <td>NaN</td>\n",
       "      <td>NaN</td>\n",
       "      <td>NaN</td>\n",
       "      <td>NaN</td>\n",
       "      <td>NaN</td>\n",
       "      <td>NaN</td>\n",
       "    </tr>\n",
       "    <tr>\n",
       "      <th>1</th>\n",
       "      <td>Afghanistan</td>\n",
       "      <td>AFG</td>\n",
       "      <td>GDP (current US$)</td>\n",
       "      <td>NY.GDP.MKTP.CD</td>\n",
       "      <td>5.377778e+08</td>\n",
       "      <td>5.488889e+08</td>\n",
       "      <td>5.466667e+08</td>\n",
       "      <td>7.511112e+08</td>\n",
       "      <td>8.000000e+08</td>\n",
       "      <td>1.006667e+09</td>\n",
       "      <td>...</td>\n",
       "      <td>1.019053e+10</td>\n",
       "      <td>1.248694e+10</td>\n",
       "      <td>1.593680e+10</td>\n",
       "      <td>1.793024e+10</td>\n",
       "      <td>2.053654e+10</td>\n",
       "      <td>2.026425e+10</td>\n",
       "      <td>2.061610e+10</td>\n",
       "      <td>1.921556e+10</td>\n",
       "      <td>1.946902e+10</td>\n",
       "      <td>2.081530e+10</td>\n",
       "    </tr>\n",
       "    <tr>\n",
       "      <th>2</th>\n",
       "      <td>Angola</td>\n",
       "      <td>AGO</td>\n",
       "      <td>GDP (current US$)</td>\n",
       "      <td>NY.GDP.MKTP.CD</td>\n",
       "      <td>NaN</td>\n",
       "      <td>NaN</td>\n",
       "      <td>NaN</td>\n",
       "      <td>NaN</td>\n",
       "      <td>NaN</td>\n",
       "      <td>NaN</td>\n",
       "      <td>...</td>\n",
       "      <td>8.417804e+10</td>\n",
       "      <td>7.549239e+10</td>\n",
       "      <td>8.252614e+10</td>\n",
       "      <td>1.041158e+11</td>\n",
       "      <td>1.139232e+11</td>\n",
       "      <td>1.249125e+11</td>\n",
       "      <td>1.267302e+11</td>\n",
       "      <td>1.026212e+11</td>\n",
       "      <td>9.533720e+10</td>\n",
       "      <td>1.242094e+11</td>\n",
       "    </tr>\n",
       "    <tr>\n",
       "      <th>3</th>\n",
       "      <td>Albania</td>\n",
       "      <td>ALB</td>\n",
       "      <td>GDP (current US$)</td>\n",
       "      <td>NY.GDP.MKTP.CD</td>\n",
       "      <td>NaN</td>\n",
       "      <td>NaN</td>\n",
       "      <td>NaN</td>\n",
       "      <td>NaN</td>\n",
       "      <td>NaN</td>\n",
       "      <td>NaN</td>\n",
       "      <td>...</td>\n",
       "      <td>1.288135e+10</td>\n",
       "      <td>1.204421e+10</td>\n",
       "      <td>1.192695e+10</td>\n",
       "      <td>1.289087e+10</td>\n",
       "      <td>1.231978e+10</td>\n",
       "      <td>1.277628e+10</td>\n",
       "      <td>1.322824e+10</td>\n",
       "      <td>1.138693e+10</td>\n",
       "      <td>1.188368e+10</td>\n",
       "      <td>1.303935e+10</td>\n",
       "    </tr>\n",
       "    <tr>\n",
       "      <th>4</th>\n",
       "      <td>Andorra</td>\n",
       "      <td>AND</td>\n",
       "      <td>GDP (current US$)</td>\n",
       "      <td>NY.GDP.MKTP.CD</td>\n",
       "      <td>NaN</td>\n",
       "      <td>NaN</td>\n",
       "      <td>NaN</td>\n",
       "      <td>NaN</td>\n",
       "      <td>NaN</td>\n",
       "      <td>NaN</td>\n",
       "      <td>...</td>\n",
       "      <td>4.007353e+09</td>\n",
       "      <td>3.660531e+09</td>\n",
       "      <td>3.355695e+09</td>\n",
       "      <td>3.442063e+09</td>\n",
       "      <td>3.164615e+09</td>\n",
       "      <td>3.281585e+09</td>\n",
       "      <td>3.350736e+09</td>\n",
       "      <td>2.811489e+09</td>\n",
       "      <td>2.877312e+09</td>\n",
       "      <td>3.012914e+09</td>\n",
       "    </tr>\n",
       "  </tbody>\n",
       "</table>\n",
       "<p>5 rows × 62 columns</p>\n",
       "</div>"
      ],
      "text/plain": [
       "  Country Name Country Code     Indicator Name  Indicator Code          1960  \\\n",
       "0        Aruba          ABW  GDP (current US$)  NY.GDP.MKTP.CD           NaN   \n",
       "1  Afghanistan          AFG  GDP (current US$)  NY.GDP.MKTP.CD  5.377778e+08   \n",
       "2       Angola          AGO  GDP (current US$)  NY.GDP.MKTP.CD           NaN   \n",
       "3      Albania          ALB  GDP (current US$)  NY.GDP.MKTP.CD           NaN   \n",
       "4      Andorra          AND  GDP (current US$)  NY.GDP.MKTP.CD           NaN   \n",
       "\n",
       "           1961          1962          1963          1964          1965  \\\n",
       "0           NaN           NaN           NaN           NaN           NaN   \n",
       "1  5.488889e+08  5.466667e+08  7.511112e+08  8.000000e+08  1.006667e+09   \n",
       "2           NaN           NaN           NaN           NaN           NaN   \n",
       "3           NaN           NaN           NaN           NaN           NaN   \n",
       "4           NaN           NaN           NaN           NaN           NaN   \n",
       "\n",
       "       ...               2008          2009          2010          2011  \\\n",
       "0      ...       2.791961e+09  2.498933e+09  2.467704e+09  2.584464e+09   \n",
       "1      ...       1.019053e+10  1.248694e+10  1.593680e+10  1.793024e+10   \n",
       "2      ...       8.417804e+10  7.549239e+10  8.252614e+10  1.041158e+11   \n",
       "3      ...       1.288135e+10  1.204421e+10  1.192695e+10  1.289087e+10   \n",
       "4      ...       4.007353e+09  3.660531e+09  3.355695e+09  3.442063e+09   \n",
       "\n",
       "           2012          2013          2014          2015          2016  \\\n",
       "0           NaN           NaN           NaN           NaN           NaN   \n",
       "1  2.053654e+10  2.026425e+10  2.061610e+10  1.921556e+10  1.946902e+10   \n",
       "2  1.139232e+11  1.249125e+11  1.267302e+11  1.026212e+11  9.533720e+10   \n",
       "3  1.231978e+10  1.277628e+10  1.322824e+10  1.138693e+10  1.188368e+10   \n",
       "4  3.164615e+09  3.281585e+09  3.350736e+09  2.811489e+09  2.877312e+09   \n",
       "\n",
       "           2017  \n",
       "0           NaN  \n",
       "1  2.081530e+10  \n",
       "2  1.242094e+11  \n",
       "3  1.303935e+10  \n",
       "4  3.012914e+09  \n",
       "\n",
       "[5 rows x 62 columns]"
      ]
     },
     "execution_count": 17,
     "metadata": {},
     "output_type": "execute_result"
    }
   ],
   "source": [
    "GDP.head()"
   ]
  },
  {
   "cell_type": "code",
   "execution_count": 22,
   "metadata": {},
   "outputs": [
    {
     "data": {
      "text/html": [
       "<div>\n",
       "<style scoped>\n",
       "    .dataframe tbody tr th:only-of-type {\n",
       "        vertical-align: middle;\n",
       "    }\n",
       "\n",
       "    .dataframe tbody tr th {\n",
       "        vertical-align: top;\n",
       "    }\n",
       "\n",
       "    .dataframe thead th {\n",
       "        text-align: right;\n",
       "    }\n",
       "</style>\n",
       "<table border=\"1\" class=\"dataframe\">\n",
       "  <thead>\n",
       "    <tr style=\"text-align: right;\">\n",
       "      <th></th>\n",
       "      <th>Country Name</th>\n",
       "      <th>gpd 2013</th>\n",
       "    </tr>\n",
       "  </thead>\n",
       "  <tbody>\n",
       "    <tr>\n",
       "      <th>0</th>\n",
       "      <td>Aruba</td>\n",
       "      <td>NaN</td>\n",
       "    </tr>\n",
       "    <tr>\n",
       "      <th>1</th>\n",
       "      <td>Afghanistan</td>\n",
       "      <td>2.026425e+10</td>\n",
       "    </tr>\n",
       "    <tr>\n",
       "      <th>2</th>\n",
       "      <td>Angola</td>\n",
       "      <td>1.249125e+11</td>\n",
       "    </tr>\n",
       "    <tr>\n",
       "      <th>3</th>\n",
       "      <td>Albania</td>\n",
       "      <td>1.277628e+10</td>\n",
       "    </tr>\n",
       "    <tr>\n",
       "      <th>4</th>\n",
       "      <td>Andorra</td>\n",
       "      <td>3.281585e+09</td>\n",
       "    </tr>\n",
       "  </tbody>\n",
       "</table>\n",
       "</div>"
      ],
      "text/plain": [
       "  Country Name      gpd 2013\n",
       "0        Aruba           NaN\n",
       "1  Afghanistan  2.026425e+10\n",
       "2       Angola  1.249125e+11\n",
       "3      Albania  1.277628e+10\n",
       "4      Andorra  3.281585e+09"
      ]
     },
     "execution_count": 22,
     "metadata": {},
     "output_type": "execute_result"
    }
   ],
   "source": []
  },
  {
   "cell_type": "code",
   "execution_count": 35,
   "metadata": {},
   "outputs": [],
   "source": [
    "import urllib\n",
    "import urllib.request\n",
    "import urllib.parse\n",
    "import requests\n",
    "import io\n",
    "\n",
    "#url = 'data:application/octet-stream;charset=utf-8,Country%2CGuns%20per%20100%20inhabitants%2CNumber%20of%20mass%20shootings%20(1983-2013)%0AAustralia%2C15%2C4%0AAustria%2C30.4%2C1%0ABelgium%2C17.2%2C2%0ACanada%2C30.8%2C4%0ADenmark%2C12%2C0%0AFinland%2C45.3%2C2%0AFrance%2C31.2%2C6%0AGermany%2C30.3%2C7%0AGreece%2C22.5%2C0%0AHolland%2C3.9%2C2%0AHungary%2C5.5%2C0%0AIceland%2C30.3%2C0%0AIreland%2C8.6%2C0%0AItaly%2C11.9%2C0%0AJapan%2C0.6%2C0%0ALuxembourg%2C15.3%2C0%0ANew%20Zealand%2C22.6%2C3%0ANorway%2C31.3%2C1%0APoland%2C1.3%2C0%0APortugal%2C8.5%2C1%0ASpain%2C10.4%2C1%0ASweden%2C31.6%2C2%0ASwitzerland%2C45.7%2C2%0AUnited%20Kingdom%2C6.2%2C3%0AUnited%20States%2C88.8%2C78'\n",
    "\n",
    "#urlData = requests.get(url).content\n",
    "\n",
    "#shootings = pd.read_csv(io.StringIO(urlData.decode('utf-8')))\n",
    "\n",
    "#shootings = urllib.request.urlopen(url)\n",
    "\n",
    "shootings = pd.read_csv(os.getenv('PUIDATA')+'/data-pvLFI.csv')"
   ]
  },
  {
   "cell_type": "code",
   "execution_count": 36,
   "metadata": {},
   "outputs": [
    {
     "data": {
      "text/html": [
       "<div>\n",
       "<style scoped>\n",
       "    .dataframe tbody tr th:only-of-type {\n",
       "        vertical-align: middle;\n",
       "    }\n",
       "\n",
       "    .dataframe tbody tr th {\n",
       "        vertical-align: top;\n",
       "    }\n",
       "\n",
       "    .dataframe thead th {\n",
       "        text-align: right;\n",
       "    }\n",
       "</style>\n",
       "<table border=\"1\" class=\"dataframe\">\n",
       "  <thead>\n",
       "    <tr style=\"text-align: right;\">\n",
       "      <th></th>\n",
       "      <th>Country</th>\n",
       "      <th>Guns per 100 inhabitants</th>\n",
       "      <th>Number of mass shootings (1983-2013)</th>\n",
       "    </tr>\n",
       "  </thead>\n",
       "  <tbody>\n",
       "    <tr>\n",
       "      <th>0</th>\n",
       "      <td>Australia</td>\n",
       "      <td>15.0</td>\n",
       "      <td>4</td>\n",
       "    </tr>\n",
       "    <tr>\n",
       "      <th>1</th>\n",
       "      <td>Austria</td>\n",
       "      <td>30.4</td>\n",
       "      <td>1</td>\n",
       "    </tr>\n",
       "    <tr>\n",
       "      <th>2</th>\n",
       "      <td>Belgium</td>\n",
       "      <td>17.2</td>\n",
       "      <td>2</td>\n",
       "    </tr>\n",
       "    <tr>\n",
       "      <th>3</th>\n",
       "      <td>Canada</td>\n",
       "      <td>30.8</td>\n",
       "      <td>4</td>\n",
       "    </tr>\n",
       "    <tr>\n",
       "      <th>4</th>\n",
       "      <td>Denmark</td>\n",
       "      <td>12.0</td>\n",
       "      <td>0</td>\n",
       "    </tr>\n",
       "  </tbody>\n",
       "</table>\n",
       "</div>"
      ],
      "text/plain": [
       "     Country  Guns per 100 inhabitants  Number of mass shootings (1983-2013)\n",
       "0  Australia                      15.0                                     4\n",
       "1    Austria                      30.4                                     1\n",
       "2    Belgium                      17.2                                     2\n",
       "3     Canada                      30.8                                     4\n",
       "4    Denmark                      12.0                                     0"
      ]
     },
     "execution_count": 36,
     "metadata": {},
     "output_type": "execute_result"
    }
   ],
   "source": [
    "#shootings = pd.read_csv(os.getenv('PUIDATA')+'/data-pvLFI.csv')\n",
    "\n",
    "shootings.head()"
   ]
  },
  {
   "cell_type": "code",
   "execution_count": 37,
   "metadata": {},
   "outputs": [],
   "source": [
    "df1 = shootings.merge(GDP, right_on='Country Name', left_on='Country')"
   ]
  },
  {
   "cell_type": "code",
   "execution_count": 38,
   "metadata": {},
   "outputs": [
    {
     "data": {
      "text/html": [
       "<div>\n",
       "<style scoped>\n",
       "    .dataframe tbody tr th:only-of-type {\n",
       "        vertical-align: middle;\n",
       "    }\n",
       "\n",
       "    .dataframe tbody tr th {\n",
       "        vertical-align: top;\n",
       "    }\n",
       "\n",
       "    .dataframe thead th {\n",
       "        text-align: right;\n",
       "    }\n",
       "</style>\n",
       "<table border=\"1\" class=\"dataframe\">\n",
       "  <thead>\n",
       "    <tr style=\"text-align: right;\">\n",
       "      <th></th>\n",
       "      <th>Country</th>\n",
       "      <th>Guns per 100 inhabitants</th>\n",
       "      <th>Number of mass shootings (1983-2013)</th>\n",
       "      <th>Country Name</th>\n",
       "      <th>gpd 2013</th>\n",
       "    </tr>\n",
       "  </thead>\n",
       "  <tbody>\n",
       "    <tr>\n",
       "      <th>0</th>\n",
       "      <td>Australia</td>\n",
       "      <td>15.0</td>\n",
       "      <td>4</td>\n",
       "      <td>Australia</td>\n",
       "      <td>1.573697e+12</td>\n",
       "    </tr>\n",
       "    <tr>\n",
       "      <th>1</th>\n",
       "      <td>Austria</td>\n",
       "      <td>30.4</td>\n",
       "      <td>1</td>\n",
       "      <td>Austria</td>\n",
       "      <td>4.300687e+11</td>\n",
       "    </tr>\n",
       "    <tr>\n",
       "      <th>2</th>\n",
       "      <td>Belgium</td>\n",
       "      <td>17.2</td>\n",
       "      <td>2</td>\n",
       "      <td>Belgium</td>\n",
       "      <td>5.209255e+11</td>\n",
       "    </tr>\n",
       "    <tr>\n",
       "      <th>3</th>\n",
       "      <td>Canada</td>\n",
       "      <td>30.8</td>\n",
       "      <td>4</td>\n",
       "      <td>Canada</td>\n",
       "      <td>1.842628e+12</td>\n",
       "    </tr>\n",
       "    <tr>\n",
       "      <th>4</th>\n",
       "      <td>Denmark</td>\n",
       "      <td>12.0</td>\n",
       "      <td>0</td>\n",
       "      <td>Denmark</td>\n",
       "      <td>3.435844e+11</td>\n",
       "    </tr>\n",
       "  </tbody>\n",
       "</table>\n",
       "</div>"
      ],
      "text/plain": [
       "     Country  Guns per 100 inhabitants  Number of mass shootings (1983-2013)  \\\n",
       "0  Australia                      15.0                                     4   \n",
       "1    Austria                      30.4                                     1   \n",
       "2    Belgium                      17.2                                     2   \n",
       "3     Canada                      30.8                                     4   \n",
       "4    Denmark                      12.0                                     0   \n",
       "\n",
       "  Country Name      gpd 2013  \n",
       "0    Australia  1.573697e+12  \n",
       "1      Austria  4.300687e+11  \n",
       "2      Belgium  5.209255e+11  \n",
       "3       Canada  1.842628e+12  \n",
       "4      Denmark  3.435844e+11  "
      ]
     },
     "execution_count": 38,
     "metadata": {},
     "output_type": "execute_result"
    }
   ],
   "source": [
    "df1.head()"
   ]
  },
  {
   "cell_type": "code",
   "execution_count": 39,
   "metadata": {},
   "outputs": [],
   "source": [
    "df2 = df1.merge(population, left_on='Country', right_on='Country Name')"
   ]
  },
  {
   "cell_type": "code",
   "execution_count": 40,
   "metadata": {},
   "outputs": [
    {
     "data": {
      "text/html": [
       "<div>\n",
       "<style scoped>\n",
       "    .dataframe tbody tr th:only-of-type {\n",
       "        vertical-align: middle;\n",
       "    }\n",
       "\n",
       "    .dataframe tbody tr th {\n",
       "        vertical-align: top;\n",
       "    }\n",
       "\n",
       "    .dataframe thead th {\n",
       "        text-align: right;\n",
       "    }\n",
       "</style>\n",
       "<table border=\"1\" class=\"dataframe\">\n",
       "  <thead>\n",
       "    <tr style=\"text-align: right;\">\n",
       "      <th></th>\n",
       "      <th>Country</th>\n",
       "      <th>Guns per 100 inhabitants</th>\n",
       "      <th>Number of mass shootings (1983-2013)</th>\n",
       "      <th>Country Name_x</th>\n",
       "      <th>gpd 2013</th>\n",
       "      <th>Country Name_y</th>\n",
       "      <th>pop 2013</th>\n",
       "    </tr>\n",
       "  </thead>\n",
       "  <tbody>\n",
       "    <tr>\n",
       "      <th>0</th>\n",
       "      <td>Australia</td>\n",
       "      <td>15.0</td>\n",
       "      <td>4</td>\n",
       "      <td>Australia</td>\n",
       "      <td>1.573697e+12</td>\n",
       "      <td>Australia</td>\n",
       "      <td>23145901.0</td>\n",
       "    </tr>\n",
       "    <tr>\n",
       "      <th>1</th>\n",
       "      <td>Austria</td>\n",
       "      <td>30.4</td>\n",
       "      <td>1</td>\n",
       "      <td>Austria</td>\n",
       "      <td>4.300687e+11</td>\n",
       "      <td>Austria</td>\n",
       "      <td>8479823.0</td>\n",
       "    </tr>\n",
       "    <tr>\n",
       "      <th>2</th>\n",
       "      <td>Belgium</td>\n",
       "      <td>17.2</td>\n",
       "      <td>2</td>\n",
       "      <td>Belgium</td>\n",
       "      <td>5.209255e+11</td>\n",
       "      <td>Belgium</td>\n",
       "      <td>11182817.0</td>\n",
       "    </tr>\n",
       "    <tr>\n",
       "      <th>3</th>\n",
       "      <td>Canada</td>\n",
       "      <td>30.8</td>\n",
       "      <td>4</td>\n",
       "      <td>Canada</td>\n",
       "      <td>1.842628e+12</td>\n",
       "      <td>Canada</td>\n",
       "      <td>35152370.0</td>\n",
       "    </tr>\n",
       "    <tr>\n",
       "      <th>4</th>\n",
       "      <td>Denmark</td>\n",
       "      <td>12.0</td>\n",
       "      <td>0</td>\n",
       "      <td>Denmark</td>\n",
       "      <td>3.435844e+11</td>\n",
       "      <td>Denmark</td>\n",
       "      <td>5614932.0</td>\n",
       "    </tr>\n",
       "  </tbody>\n",
       "</table>\n",
       "</div>"
      ],
      "text/plain": [
       "     Country  Guns per 100 inhabitants  Number of mass shootings (1983-2013)  \\\n",
       "0  Australia                      15.0                                     4   \n",
       "1    Austria                      30.4                                     1   \n",
       "2    Belgium                      17.2                                     2   \n",
       "3     Canada                      30.8                                     4   \n",
       "4    Denmark                      12.0                                     0   \n",
       "\n",
       "  Country Name_x      gpd 2013 Country Name_y    pop 2013  \n",
       "0      Australia  1.573697e+12      Australia  23145901.0  \n",
       "1        Austria  4.300687e+11        Austria   8479823.0  \n",
       "2        Belgium  5.209255e+11        Belgium  11182817.0  \n",
       "3         Canada  1.842628e+12         Canada  35152370.0  \n",
       "4        Denmark  3.435844e+11        Denmark   5614932.0  "
      ]
     },
     "execution_count": 40,
     "metadata": {},
     "output_type": "execute_result"
    }
   ],
   "source": [
    "df2.head()"
   ]
  },
  {
   "cell_type": "code",
   "execution_count": 41,
   "metadata": {},
   "outputs": [],
   "source": [
    "df3 = firearms.merge(df2, left_on='Country/Territory', right_on='Country')"
   ]
  },
  {
   "cell_type": "code",
   "execution_count": 42,
   "metadata": {},
   "outputs": [
    {
     "data": {
      "text/html": [
       "<div>\n",
       "<style scoped>\n",
       "    .dataframe tbody tr th:only-of-type {\n",
       "        vertical-align: middle;\n",
       "    }\n",
       "\n",
       "    .dataframe tbody tr th {\n",
       "        vertical-align: top;\n",
       "    }\n",
       "\n",
       "    .dataframe thead th {\n",
       "        text-align: right;\n",
       "    }\n",
       "</style>\n",
       "<table border=\"1\" class=\"dataframe\">\n",
       "  <thead>\n",
       "    <tr style=\"text-align: right;\">\n",
       "      <th></th>\n",
       "      <th>Country/Territory</th>\n",
       "      <th>ISO code</th>\n",
       "      <th>Source</th>\n",
       "      <th>% of homicides by firearm</th>\n",
       "      <th>Number of homicides by firearm</th>\n",
       "      <th>Homicide by firearm rate per 100,000 pop</th>\n",
       "      <th>Rank by rate of ownership</th>\n",
       "      <th>Average firearms per 100 people</th>\n",
       "      <th>Average total all civilian firearms</th>\n",
       "      <th>Country</th>\n",
       "      <th>Guns per 100 inhabitants</th>\n",
       "      <th>Number of mass shootings (1983-2013)</th>\n",
       "      <th>Country Name_x</th>\n",
       "      <th>gpd 2013</th>\n",
       "      <th>Country Name_y</th>\n",
       "      <th>pop 2013</th>\n",
       "    </tr>\n",
       "  </thead>\n",
       "  <tbody>\n",
       "    <tr>\n",
       "      <th>0</th>\n",
       "      <td>Australia</td>\n",
       "      <td>AU</td>\n",
       "      <td>NSO</td>\n",
       "      <td>11.5</td>\n",
       "      <td>30.0</td>\n",
       "      <td>0.14</td>\n",
       "      <td>42.0</td>\n",
       "      <td>15.0</td>\n",
       "      <td>3050000.0</td>\n",
       "      <td>Australia</td>\n",
       "      <td>15.0</td>\n",
       "      <td>4</td>\n",
       "      <td>Australia</td>\n",
       "      <td>1.573697e+12</td>\n",
       "      <td>Australia</td>\n",
       "      <td>23145901.0</td>\n",
       "    </tr>\n",
       "    <tr>\n",
       "      <th>1</th>\n",
       "      <td>Austria</td>\n",
       "      <td>AT</td>\n",
       "      <td>CTS</td>\n",
       "      <td>29.5</td>\n",
       "      <td>18.0</td>\n",
       "      <td>0.22</td>\n",
       "      <td>14.0</td>\n",
       "      <td>30.4</td>\n",
       "      <td>2500000.0</td>\n",
       "      <td>Austria</td>\n",
       "      <td>30.4</td>\n",
       "      <td>1</td>\n",
       "      <td>Austria</td>\n",
       "      <td>4.300687e+11</td>\n",
       "      <td>Austria</td>\n",
       "      <td>8479823.0</td>\n",
       "    </tr>\n",
       "    <tr>\n",
       "      <th>2</th>\n",
       "      <td>Belgium</td>\n",
       "      <td>BE</td>\n",
       "      <td>WHO-MDB</td>\n",
       "      <td>39.5</td>\n",
       "      <td>70.0</td>\n",
       "      <td>0.68</td>\n",
       "      <td>34.0</td>\n",
       "      <td>17.2</td>\n",
       "      <td>1800000.0</td>\n",
       "      <td>Belgium</td>\n",
       "      <td>17.2</td>\n",
       "      <td>2</td>\n",
       "      <td>Belgium</td>\n",
       "      <td>5.209255e+11</td>\n",
       "      <td>Belgium</td>\n",
       "      <td>11182817.0</td>\n",
       "    </tr>\n",
       "    <tr>\n",
       "      <th>3</th>\n",
       "      <td>Canada</td>\n",
       "      <td>CA</td>\n",
       "      <td>CTS</td>\n",
       "      <td>32.0</td>\n",
       "      <td>173.0</td>\n",
       "      <td>0.51</td>\n",
       "      <td>13.0</td>\n",
       "      <td>30.8</td>\n",
       "      <td>9950000.0</td>\n",
       "      <td>Canada</td>\n",
       "      <td>30.8</td>\n",
       "      <td>4</td>\n",
       "      <td>Canada</td>\n",
       "      <td>1.842628e+12</td>\n",
       "      <td>Canada</td>\n",
       "      <td>35152370.0</td>\n",
       "    </tr>\n",
       "    <tr>\n",
       "      <th>4</th>\n",
       "      <td>Denmark</td>\n",
       "      <td>DK</td>\n",
       "      <td>CTS</td>\n",
       "      <td>31.9</td>\n",
       "      <td>15.0</td>\n",
       "      <td>0.27</td>\n",
       "      <td>54.0</td>\n",
       "      <td>12.0</td>\n",
       "      <td>650000.0</td>\n",
       "      <td>Denmark</td>\n",
       "      <td>12.0</td>\n",
       "      <td>0</td>\n",
       "      <td>Denmark</td>\n",
       "      <td>3.435844e+11</td>\n",
       "      <td>Denmark</td>\n",
       "      <td>5614932.0</td>\n",
       "    </tr>\n",
       "  </tbody>\n",
       "</table>\n",
       "</div>"
      ],
      "text/plain": [
       "  Country/Territory ISO code   Source  % of homicides by firearm  \\\n",
       "0         Australia       AU      NSO                       11.5   \n",
       "1           Austria       AT      CTS                       29.5   \n",
       "2           Belgium       BE  WHO-MDB                       39.5   \n",
       "3            Canada       CA      CTS                       32.0   \n",
       "4           Denmark       DK      CTS                       31.9   \n",
       "\n",
       "   Number of homicides by firearm  Homicide by firearm rate per 100,000 pop  \\\n",
       "0                            30.0                                      0.14   \n",
       "1                            18.0                                      0.22   \n",
       "2                            70.0                                      0.68   \n",
       "3                           173.0                                      0.51   \n",
       "4                            15.0                                      0.27   \n",
       "\n",
       "   Rank by rate of ownership  Average firearms per 100 people  \\\n",
       "0                       42.0                             15.0   \n",
       "1                       14.0                             30.4   \n",
       "2                       34.0                             17.2   \n",
       "3                       13.0                             30.8   \n",
       "4                       54.0                             12.0   \n",
       "\n",
       "   Average total all civilian firearms    Country  Guns per 100 inhabitants  \\\n",
       "0                            3050000.0  Australia                      15.0   \n",
       "1                            2500000.0    Austria                      30.4   \n",
       "2                            1800000.0    Belgium                      17.2   \n",
       "3                            9950000.0     Canada                      30.8   \n",
       "4                             650000.0    Denmark                      12.0   \n",
       "\n",
       "   Number of mass shootings (1983-2013) Country Name_x      gpd 2013  \\\n",
       "0                                     4      Australia  1.573697e+12   \n",
       "1                                     1        Austria  4.300687e+11   \n",
       "2                                     2        Belgium  5.209255e+11   \n",
       "3                                     4         Canada  1.842628e+12   \n",
       "4                                     0        Denmark  3.435844e+11   \n",
       "\n",
       "  Country Name_y    pop 2013  \n",
       "0      Australia  23145901.0  \n",
       "1        Austria   8479823.0  \n",
       "2        Belgium  11182817.0  \n",
       "3         Canada  35152370.0  \n",
       "4        Denmark   5614932.0  "
      ]
     },
     "execution_count": 42,
     "metadata": {},
     "output_type": "execute_result"
    }
   ],
   "source": [
    "df3.head()"
   ]
  },
  {
   "cell_type": "code",
   "execution_count": 43,
   "metadata": {},
   "outputs": [],
   "source": [
    "df3 = df3[['Country','Average total all civilian firearms', 'pop 2013', 'gpd 2013', 'Number of homicides by firearm', 'Guns per 100 inhabitants', 'Number of mass shootings (1983-2013)']]"
   ]
  },
  {
   "cell_type": "code",
   "execution_count": 72,
   "metadata": {},
   "outputs": [
    {
     "data": {
      "text/html": [
       "<div>\n",
       "<style scoped>\n",
       "    .dataframe tbody tr th:only-of-type {\n",
       "        vertical-align: middle;\n",
       "    }\n",
       "\n",
       "    .dataframe tbody tr th {\n",
       "        vertical-align: top;\n",
       "    }\n",
       "\n",
       "    .dataframe thead th {\n",
       "        text-align: right;\n",
       "    }\n",
       "</style>\n",
       "<table border=\"1\" class=\"dataframe\">\n",
       "  <thead>\n",
       "    <tr style=\"text-align: right;\">\n",
       "      <th></th>\n",
       "      <th>Country</th>\n",
       "      <th>Average total all civilian firearms</th>\n",
       "      <th>pop 2013</th>\n",
       "      <th>gpd 2013</th>\n",
       "      <th>Number of homicides by firearm</th>\n",
       "      <th>Guns per 100 inhabitants</th>\n",
       "      <th>Number of mass shootings (1983-2013)</th>\n",
       "      <th>gdp_total</th>\n",
       "      <th>pop_total</th>\n",
       "      <th>gdp pp</th>\n",
       "      <th>#mass_shootings</th>\n",
       "      <th>shootingspp</th>\n",
       "      <th>avg_firearms</th>\n",
       "    </tr>\n",
       "  </thead>\n",
       "  <tbody>\n",
       "    <tr>\n",
       "      <th>0</th>\n",
       "      <td>Australia</td>\n",
       "      <td>3050000.0</td>\n",
       "      <td>23145901.0</td>\n",
       "      <td>1.573697e+12</td>\n",
       "      <td>30.0</td>\n",
       "      <td>15.0</td>\n",
       "      <td>4</td>\n",
       "      <td>1.573697e+18</td>\n",
       "      <td>2.314590e+10</td>\n",
       "      <td>67990.290030</td>\n",
       "      <td>4</td>\n",
       "      <td>1.728168e-10</td>\n",
       "      <td>3050000.0</td>\n",
       "    </tr>\n",
       "    <tr>\n",
       "      <th>1</th>\n",
       "      <td>Austria</td>\n",
       "      <td>2500000.0</td>\n",
       "      <td>8479823.0</td>\n",
       "      <td>4.300687e+11</td>\n",
       "      <td>18.0</td>\n",
       "      <td>30.4</td>\n",
       "      <td>1</td>\n",
       "      <td>4.300687e+17</td>\n",
       "      <td>8.479823e+09</td>\n",
       "      <td>50716.708706</td>\n",
       "      <td>1</td>\n",
       "      <td>1.179270e-10</td>\n",
       "      <td>2500000.0</td>\n",
       "    </tr>\n",
       "    <tr>\n",
       "      <th>2</th>\n",
       "      <td>Belgium</td>\n",
       "      <td>1800000.0</td>\n",
       "      <td>11182817.0</td>\n",
       "      <td>5.209255e+11</td>\n",
       "      <td>70.0</td>\n",
       "      <td>17.2</td>\n",
       "      <td>2</td>\n",
       "      <td>5.209255e+17</td>\n",
       "      <td>1.118282e+10</td>\n",
       "      <td>46582.669550</td>\n",
       "      <td>2</td>\n",
       "      <td>1.788458e-10</td>\n",
       "      <td>1800000.0</td>\n",
       "    </tr>\n",
       "    <tr>\n",
       "      <th>3</th>\n",
       "      <td>Canada</td>\n",
       "      <td>9950000.0</td>\n",
       "      <td>35152370.0</td>\n",
       "      <td>1.842628e+12</td>\n",
       "      <td>173.0</td>\n",
       "      <td>30.8</td>\n",
       "      <td>4</td>\n",
       "      <td>1.842628e+18</td>\n",
       "      <td>3.515237e+10</td>\n",
       "      <td>52418.315062</td>\n",
       "      <td>4</td>\n",
       "      <td>1.137903e-10</td>\n",
       "      <td>9950000.0</td>\n",
       "    </tr>\n",
       "    <tr>\n",
       "      <th>4</th>\n",
       "      <td>Denmark</td>\n",
       "      <td>650000.0</td>\n",
       "      <td>5614932.0</td>\n",
       "      <td>3.435844e+11</td>\n",
       "      <td>15.0</td>\n",
       "      <td>12.0</td>\n",
       "      <td>0</td>\n",
       "      <td>3.435844e+17</td>\n",
       "      <td>5.614932e+09</td>\n",
       "      <td>61191.192626</td>\n",
       "      <td>0</td>\n",
       "      <td>0.000000e+00</td>\n",
       "      <td>650000.0</td>\n",
       "    </tr>\n",
       "  </tbody>\n",
       "</table>\n",
       "</div>"
      ],
      "text/plain": [
       "     Country  Average total all civilian firearms    pop 2013      gpd 2013  \\\n",
       "0  Australia                            3050000.0  23145901.0  1.573697e+12   \n",
       "1    Austria                            2500000.0   8479823.0  4.300687e+11   \n",
       "2    Belgium                            1800000.0  11182817.0  5.209255e+11   \n",
       "3     Canada                            9950000.0  35152370.0  1.842628e+12   \n",
       "4    Denmark                             650000.0   5614932.0  3.435844e+11   \n",
       "\n",
       "   Number of homicides by firearm  Guns per 100 inhabitants  \\\n",
       "0                            30.0                      15.0   \n",
       "1                            18.0                      30.4   \n",
       "2                            70.0                      17.2   \n",
       "3                           173.0                      30.8   \n",
       "4                            15.0                      12.0   \n",
       "\n",
       "   Number of mass shootings (1983-2013)     gdp_total     pop_total  \\\n",
       "0                                     4  1.573697e+18  2.314590e+10   \n",
       "1                                     1  4.300687e+17  8.479823e+09   \n",
       "2                                     2  5.209255e+17  1.118282e+10   \n",
       "3                                     4  1.842628e+18  3.515237e+10   \n",
       "4                                     0  3.435844e+17  5.614932e+09   \n",
       "\n",
       "         gdp pp  #mass_shootings   shootingspp  avg_firearms  \n",
       "0  67990.290030                4  1.728168e-10     3050000.0  \n",
       "1  50716.708706                1  1.179270e-10     2500000.0  \n",
       "2  46582.669550                2  1.788458e-10     1800000.0  \n",
       "3  52418.315062                4  1.137903e-10     9950000.0  \n",
       "4  61191.192626                0  0.000000e+00      650000.0  "
      ]
     },
     "execution_count": 72,
     "metadata": {},
     "output_type": "execute_result"
    }
   ],
   "source": [
    "df3.head()"
   ]
  },
  {
   "cell_type": "markdown",
   "metadata": {},
   "source": [
    "** exploration **"
   ]
  },
  {
   "cell_type": "code",
   "execution_count": 47,
   "metadata": {},
   "outputs": [],
   "source": [
    "df3['gpd 2013'].dtype\n",
    "df3['gdp_total'] = df3['gpd 2013']*1000000"
   ]
  },
  {
   "cell_type": "code",
   "execution_count": 48,
   "metadata": {},
   "outputs": [],
   "source": [
    "df3['pop_total'] = df3['pop 2013']*1000"
   ]
  },
  {
   "cell_type": "code",
   "execution_count": 59,
   "metadata": {},
   "outputs": [],
   "source": [
    "df3['gdp pp'] = (df3['gdp_total']/df3['pop_total'])/1000 \n",
    "#df3['shootings pp'] = df3['Number of mass shootings (1983-2013)']/df3['pop 2013'] "
   ]
  },
  {
   "cell_type": "code",
   "execution_count": 63,
   "metadata": {},
   "outputs": [
    {
     "data": {
      "text/html": [
       "<div>\n",
       "<style scoped>\n",
       "    .dataframe tbody tr th:only-of-type {\n",
       "        vertical-align: middle;\n",
       "    }\n",
       "\n",
       "    .dataframe tbody tr th {\n",
       "        vertical-align: top;\n",
       "    }\n",
       "\n",
       "    .dataframe thead th {\n",
       "        text-align: right;\n",
       "    }\n",
       "</style>\n",
       "<table border=\"1\" class=\"dataframe\">\n",
       "  <thead>\n",
       "    <tr style=\"text-align: right;\">\n",
       "      <th></th>\n",
       "      <th>Country</th>\n",
       "      <th>Average total all civilian firearms</th>\n",
       "      <th>pop 2013</th>\n",
       "      <th>gpd 2013</th>\n",
       "      <th>Number of homicides by firearm</th>\n",
       "      <th>Guns per 100 inhabitants</th>\n",
       "      <th>Number of mass shootings (1983-2013)</th>\n",
       "      <th>gdp_total</th>\n",
       "      <th>pop_total</th>\n",
       "      <th>gdp pp</th>\n",
       "      <th>#mass_shootings</th>\n",
       "      <th>shootingspp</th>\n",
       "    </tr>\n",
       "  </thead>\n",
       "  <tbody>\n",
       "    <tr>\n",
       "      <th>0</th>\n",
       "      <td>Australia</td>\n",
       "      <td>3050000.0</td>\n",
       "      <td>23145901.0</td>\n",
       "      <td>1.573697e+12</td>\n",
       "      <td>30.0</td>\n",
       "      <td>15.0</td>\n",
       "      <td>4</td>\n",
       "      <td>1.573697e+18</td>\n",
       "      <td>2.314590e+10</td>\n",
       "      <td>67990.290030</td>\n",
       "      <td>4</td>\n",
       "      <td>0.000173</td>\n",
       "    </tr>\n",
       "    <tr>\n",
       "      <th>1</th>\n",
       "      <td>Austria</td>\n",
       "      <td>2500000.0</td>\n",
       "      <td>8479823.0</td>\n",
       "      <td>4.300687e+11</td>\n",
       "      <td>18.0</td>\n",
       "      <td>30.4</td>\n",
       "      <td>1</td>\n",
       "      <td>4.300687e+17</td>\n",
       "      <td>8.479823e+09</td>\n",
       "      <td>50716.708706</td>\n",
       "      <td>1</td>\n",
       "      <td>0.000118</td>\n",
       "    </tr>\n",
       "    <tr>\n",
       "      <th>2</th>\n",
       "      <td>Belgium</td>\n",
       "      <td>1800000.0</td>\n",
       "      <td>11182817.0</td>\n",
       "      <td>5.209255e+11</td>\n",
       "      <td>70.0</td>\n",
       "      <td>17.2</td>\n",
       "      <td>2</td>\n",
       "      <td>5.209255e+17</td>\n",
       "      <td>1.118282e+10</td>\n",
       "      <td>46582.669550</td>\n",
       "      <td>2</td>\n",
       "      <td>0.000179</td>\n",
       "    </tr>\n",
       "    <tr>\n",
       "      <th>3</th>\n",
       "      <td>Canada</td>\n",
       "      <td>9950000.0</td>\n",
       "      <td>35152370.0</td>\n",
       "      <td>1.842628e+12</td>\n",
       "      <td>173.0</td>\n",
       "      <td>30.8</td>\n",
       "      <td>4</td>\n",
       "      <td>1.842628e+18</td>\n",
       "      <td>3.515237e+10</td>\n",
       "      <td>52418.315062</td>\n",
       "      <td>4</td>\n",
       "      <td>0.000114</td>\n",
       "    </tr>\n",
       "    <tr>\n",
       "      <th>4</th>\n",
       "      <td>Denmark</td>\n",
       "      <td>650000.0</td>\n",
       "      <td>5614932.0</td>\n",
       "      <td>3.435844e+11</td>\n",
       "      <td>15.0</td>\n",
       "      <td>12.0</td>\n",
       "      <td>0</td>\n",
       "      <td>3.435844e+17</td>\n",
       "      <td>5.614932e+09</td>\n",
       "      <td>61191.192626</td>\n",
       "      <td>0</td>\n",
       "      <td>0.000000</td>\n",
       "    </tr>\n",
       "  </tbody>\n",
       "</table>\n",
       "</div>"
      ],
      "text/plain": [
       "     Country  Average total all civilian firearms    pop 2013      gpd 2013  \\\n",
       "0  Australia                            3050000.0  23145901.0  1.573697e+12   \n",
       "1    Austria                            2500000.0   8479823.0  4.300687e+11   \n",
       "2    Belgium                            1800000.0  11182817.0  5.209255e+11   \n",
       "3     Canada                            9950000.0  35152370.0  1.842628e+12   \n",
       "4    Denmark                             650000.0   5614932.0  3.435844e+11   \n",
       "\n",
       "   Number of homicides by firearm  Guns per 100 inhabitants  \\\n",
       "0                            30.0                      15.0   \n",
       "1                            18.0                      30.4   \n",
       "2                            70.0                      17.2   \n",
       "3                           173.0                      30.8   \n",
       "4                            15.0                      12.0   \n",
       "\n",
       "   Number of mass shootings (1983-2013)     gdp_total     pop_total  \\\n",
       "0                                     4  1.573697e+18  2.314590e+10   \n",
       "1                                     1  4.300687e+17  8.479823e+09   \n",
       "2                                     2  5.209255e+17  1.118282e+10   \n",
       "3                                     4  1.842628e+18  3.515237e+10   \n",
       "4                                     0  3.435844e+17  5.614932e+09   \n",
       "\n",
       "         gdp pp  #mass_shootings  shootingspp  \n",
       "0  67990.290030                4     0.000173  \n",
       "1  50716.708706                1     0.000118  \n",
       "2  46582.669550                2     0.000179  \n",
       "3  52418.315062                4     0.000114  \n",
       "4  61191.192626                0     0.000000  "
      ]
     },
     "execution_count": 63,
     "metadata": {},
     "output_type": "execute_result"
    }
   ],
   "source": [
    "df3['#mass_shootings'] = df3['Number of mass shootings (1983-2013)']\n",
    "\n",
    "df3.head()"
   ]
  },
  {
   "cell_type": "code",
   "execution_count": 71,
   "metadata": {},
   "outputs": [],
   "source": [
    "df3['avg_firearms'] = df3['Average total all civilian firearms']"
   ]
  },
  {
   "cell_type": "code",
   "execution_count": 54,
   "metadata": {},
   "outputs": [
    {
     "data": {
      "image/png": "[encoded data removed]",
      "text/plain": [
       "<Figure size 720x360 with 1 Axes>"
      ]
     },
     "metadata": {},
     "output_type": "display_data"
    },
    {
     "name": "stdout",
     "output_type": "stream",
     "text": [
      "Number of mass shooting vs GDP, errors represent Poisson statistics.\n",
      "The datapoint to the top right of the plot is the USA, which has noth the highest GDP and the highest number of mass shootings\n"
     ]
    }
   ],
   "source": [
    "fig = pl.figure(figsize=(10,5))\n",
    "ax = fig.add_subplot(111)\n",
    "\n",
    "scatter = ax.scatter(df3['gpd 2013'] / 1e9, df3['#mass_shootings'])\n",
    "ax.errorbar(df3['gpd 2013'] / 1e9, df3['#mass_shootings'], \n",
    "            yerr = np.sqrt(df3['#mass_shootings'] * 1.0), fmt = '.')\n",
    "ax.set_xlabel(\"GDP (in billions of $)\")\n",
    "ax.set_ylabel(\"Number of mass shootings\")\n",
    "ax.set_ylim()\n",
    "pl.show()\n",
    "print (\"Number of mass shooting vs GDP, \" + \n",
    "       \"errors represent Poisson statistics.\\n\" + \n",
    "       \"The datapoint to the top right of the plot is the USA, \" + \n",
    "       \"which has noth the highest GDP and the highest number of mass shootings\")"
   ]
  },
  {
   "cell_type": "code",
   "execution_count": 61,
   "metadata": {},
   "outputs": [
    {
     "data": {
      "image/png": "[encoded data removed]",
      "text/plain": [
       "<Figure size 720x360 with 1 Axes>"
      ]
     },
     "metadata": {},
     "output_type": "display_data"
    },
    {
     "name": "stdout",
     "output_type": "stream",
     "text": [
      "Number of mass shooting vs GDP per person, errors represent Poisson statistics.\n",
      "The datapoint to the top right of the plot is the USA, which has noth the highest GDP and the highest number of mass shootings\n"
     ]
    }
   ],
   "source": [
    "fig = pl.figure(figsize=(10,5))\n",
    "ax = fig.add_subplot(111)\n",
    "\n",
    "scatter = ax.scatter(df3['gdp pp'], df3['#mass_shootings'])\n",
    "ax.errorbar(df3['gdp pp'], df3['#mass_shootings'], \n",
    "            yerr = np.sqrt(df3['#mass_shootings'] * 1.0), fmt = '.')\n",
    "ax.set_xlabel(\"GDP per person (in thousands of $)\")\n",
    "ax.set_ylabel(\"Number of mass shootings\")\n",
    "ax.set_ylim()\n",
    "\n",
    "pl.show()\n",
    "print (\"Number of mass shooting vs GDP per person, \" + \n",
    "       \"errors represent Poisson statistics.\\n\" + \n",
    "       \"The datapoint to the top right of the plot is the USA, \" + \n",
    "       \"which has noth the highest GDP and the highest number of mass shootings\")"
   ]
  },
  {
   "cell_type": "markdown",
   "metadata": {},
   "source": [
    "** plot the average number of civilian fire arms per person **"
   ]
  },
  {
   "cell_type": "code",
   "execution_count": 74,
   "metadata": {},
   "outputs": [],
   "source": [
    "df3['shootingspp'] = df3[\"#mass_shootings\"] / df3['pop_total']"
   ]
  },
  {
   "cell_type": "code",
   "execution_count": 98,
   "metadata": {},
   "outputs": [
    {
     "data": {
      "text/plain": [
       "Text(0,0.5,'Population (in millions of people)')"
      ]
     },
     "execution_count": 98,
     "metadata": {},
     "output_type": "execute_result"
    },
    {
     "data": {
      "image/png": "[encoded data removed]",
      "text/plain": [
       "<Figure size 720x360 with 1 Axes>"
      ]
     },
     "metadata": {},
     "output_type": "display_data"
    }
   ],
   "source": [
    "\n",
    "fig = pl.figure(figsize=(10,5))\n",
    "ax = fig.add_subplot(111)\n",
    "\n",
    "scatter = ax.scatter(df3['avg_firearms'],df3['pop_total']/ 1e6)\n",
    "\n",
    "ax.set_xlabel(\"Civilian Firearms\")\n",
    "ax.set_ylabel(\"Population (in millions of people)\")\n"
   ]
  },
  {
   "cell_type": "code",
   "execution_count": 100,
   "metadata": {},
   "outputs": [
    {
     "data": {
      "text/plain": [
       "Text(0,0.5,'Population (in millions of people)')"
      ]
     },
     "execution_count": 100,
     "metadata": {},
     "output_type": "execute_result"
    },
    {
     "data": {
      "image/png": "[encoded data removed]",
      "text/plain": [
       "<Figure size 720x360 with 1 Axes>"
      ]
     },
     "metadata": {},
     "output_type": "display_data"
    }
   ],
   "source": [
    "fig = pl.figure(figsize=(10,5))\n",
    "ax = fig.add_subplot(111)\n",
    "\n",
    "scatter = ax.scatter(df3['avg_firearms'],df3['pop_total'] / 1e6)\n",
    "ax.errorbar(df3['avg_firearms'], df3['pop_total']/1e6, \n",
    "            yerr = (np.sqrt(df3['pop_total'] + df3['avg_firearms'])/1e6)*10000, fmt = '.')\n",
    "\n",
    "ax.set_xlabel(\"Civilian Firearms (hundreds of millions)\")\n",
    "ax.set_ylabel(\"Population (in millions of people)\")\n",
    "\n",
    "\n",
    "## multiplied errors by 10000 -- for no reason other than to be able to see them"
   ]
  },
  {
   "cell_type": "markdown",
   "metadata": {},
   "source": [
    "Error bars are too small to see on this graph. I've inflated them here * 10000, and still they are only large enough to see on the top right point. \n",
    "\n",
    "Top right point appears to be an outlier. Is it the US? :"
   ]
  },
  {
   "cell_type": "code",
   "execution_count": 88,
   "metadata": {},
   "outputs": [
    {
     "name": "stdout",
     "output_type": "stream",
     "text": [
      "Country with the most Civilian Firearms\n"
     ]
    },
    {
     "data": {
      "text/html": [
       "<div>\n",
       "<style scoped>\n",
       "    .dataframe tbody tr th:only-of-type {\n",
       "        vertical-align: middle;\n",
       "    }\n",
       "\n",
       "    .dataframe tbody tr th {\n",
       "        vertical-align: top;\n",
       "    }\n",
       "\n",
       "    .dataframe thead th {\n",
       "        text-align: right;\n",
       "    }\n",
       "</style>\n",
       "<table border=\"1\" class=\"dataframe\">\n",
       "  <thead>\n",
       "    <tr style=\"text-align: right;\">\n",
       "      <th></th>\n",
       "      <th>Country</th>\n",
       "      <th>Average total all civilian firearms</th>\n",
       "      <th>pop 2013</th>\n",
       "      <th>gpd 2013</th>\n",
       "      <th>Number of homicides by firearm</th>\n",
       "      <th>Guns per 100 inhabitants</th>\n",
       "      <th>Number of mass shootings (1983-2013)</th>\n",
       "      <th>gdp_total</th>\n",
       "      <th>pop_total</th>\n",
       "      <th>gdp pp</th>\n",
       "      <th>#mass_shootings</th>\n",
       "      <th>shootingspp</th>\n",
       "      <th>avg_firearms</th>\n",
       "    </tr>\n",
       "  </thead>\n",
       "  <tbody>\n",
       "    <tr>\n",
       "      <th>22</th>\n",
       "      <td>United States</td>\n",
       "      <td>270000000.0</td>\n",
       "      <td>316234505.0</td>\n",
       "      <td>1.669152e+13</td>\n",
       "      <td>9146.0</td>\n",
       "      <td>88.8</td>\n",
       "      <td>78</td>\n",
       "      <td>1.669152e+19</td>\n",
       "      <td>3.162345e+11</td>\n",
       "      <td>52782.086509</td>\n",
       "      <td>78</td>\n",
       "      <td>2.466524e-10</td>\n",
       "      <td>270000000.0</td>\n",
       "    </tr>\n",
       "  </tbody>\n",
       "</table>\n",
       "</div>"
      ],
      "text/plain": [
       "          Country  Average total all civilian firearms     pop 2013  \\\n",
       "22  United States                          270000000.0  316234505.0   \n",
       "\n",
       "        gpd 2013  Number of homicides by firearm  Guns per 100 inhabitants  \\\n",
       "22  1.669152e+13                          9146.0                      88.8   \n",
       "\n",
       "    Number of mass shootings (1983-2013)     gdp_total     pop_total  \\\n",
       "22                                    78  1.669152e+19  3.162345e+11   \n",
       "\n",
       "          gdp pp  #mass_shootings   shootingspp  avg_firearms  \n",
       "22  52782.086509               78  2.466524e-10   270000000.0  "
      ]
     },
     "execution_count": 88,
     "metadata": {},
     "output_type": "execute_result"
    }
   ],
   "source": [
    "print(\"Country with the most Civilian Firearms\")\n",
    "df3[df3.avg_firearms == df3.avg_firearms.max()]"
   ]
  },
  {
   "cell_type": "markdown",
   "metadata": {},
   "source": [
    "^^^ yup. "
   ]
  },
  {
   "cell_type": "markdown",
   "metadata": {},
   "source": [
    "** avg. number of homicides by firearms per person **"
   ]
  },
  {
   "cell_type": "code",
   "execution_count": 151,
   "metadata": {},
   "outputs": [
    {
     "data": {
      "image/png": "[encoded data removed]",
      "text/plain": [
       "<Figure size 432x288 with 1 Axes>"
      ]
     },
     "metadata": {},
     "output_type": "display_data"
    }
   ],
   "source": [
    "fig, ax = plt.subplots()\n",
    "ax.hist(df3['Number of homicides by firearm'] / df3['pop 2013'] * 1000)\n",
    "ax.set_xlabel('homicides by firearm per 1000 people');"
   ]
  },
  {
   "cell_type": "markdown",
   "metadata": {},
   "source": [
    "There is an obvious outlier on the right of the chart that represents the US. "
   ]
  },
  {
   "cell_type": "code",
   "execution_count": 110,
   "metadata": {},
   "outputs": [
    {
     "data": {
      "text/plain": [
       "Text(0,0.5,'Homicides by Firearm')"
      ]
     },
     "execution_count": 110,
     "metadata": {},
     "output_type": "execute_result"
    },
    {
     "data": {
      "image/png": "[encoded data removed]",
      "text/plain": [
       "<Figure size 720x360 with 1 Axes>"
      ]
     },
     "metadata": {},
     "output_type": "display_data"
    }
   ],
   "source": [
    "#homicide by firearm against GDP \n",
    "\n",
    "fig = pl.figure(figsize=(10,5))\n",
    "ax = fig.add_subplot(111)\n",
    "\n",
    "scatter = ax.scatter(df3['gpd 2013']/1e9 ,df3['Number of homicides by firearm']  )\n",
    "\n",
    "ax.errorbar(df3['gpd 2013']/1e9, df3['Number of homicides by firearm'], \n",
    "            yerr = np.sqrt(df3['gpd 2013'] + df3['Number of homicides by firearm'])/1e9 , fmt = '.')\n",
    "\n",
    "ax.set_xlabel(\"GDP (in billions$)\")\n",
    "ax.set_ylabel(\"Homicides by Firearm\")\n"
   ]
  },
  {
   "cell_type": "code",
   "execution_count": null,
   "metadata": {},
   "outputs": [],
   "source": []
  },
  {
   "cell_type": "code",
   "execution_count": null,
   "metadata": {},
   "outputs": [],
   "source": []
  },
  {
   "cell_type": "code",
   "execution_count": 156,
   "metadata": {},
   "outputs": [
    {
     "data": {
      "text/plain": [
       "Text(0,0.5,'homicides by firearm per 1000 people')"
      ]
     },
     "execution_count": 156,
     "metadata": {},
     "output_type": "execute_result"
    },
    {
     "data": {
      "image/png": "[encoded data removed]",
      "text/plain": [
       "<Figure size 720x360 with 1 Axes>"
      ]
     },
     "metadata": {},
     "output_type": "display_data"
    }
   ],
   "source": [
    "fig = pl.figure(figsize=(10,5))\n",
    "ax = fig.add_subplot(111)\n",
    "\n",
    "scatter = ax.scatter(df3['shootingspp'],(df3['gpd,ppp 2013']/1e9)/1000)\n",
    "\n",
    "ax.set_xlabel('gdp per 1000 people (in billions)')\n",
    "ax.set_ylabel('homicides by firearm per 1000 people')\n",
    "\n",
    "#ax.set_ylim(ymin=0)"
   ]
  },
  {
   "cell_type": "markdown",
   "metadata": {},
   "source": [
    "** number of homicides by firearm against the number of civilian firearms **"
   ]
  },
  {
   "cell_type": "code",
   "execution_count": 165,
   "metadata": {},
   "outputs": [
    {
     "data": {
      "text/plain": [
       "Text(0,0.5,'Number of homicides by firearm')"
      ]
     },
     "execution_count": 165,
     "metadata": {},
     "output_type": "execute_result"
    },
    {
     "data": {
      "image/png": "[encoded data removed]",
      "text/plain": [
       "<Figure size 720x360 with 1 Axes>"
      ]
     },
     "metadata": {},
     "output_type": "display_data"
    }
   ],
   "source": [
    "fig = pl.figure(figsize=(10,5))\n",
    "ax = fig.add_subplot(111)\n",
    "\n",
    "scatter = ax.scatter(df3['Average total all civilian firearms'],\n",
    "                     df3['Number of homicides by firearm'])\n",
    "\n",
    "ax.set_xlabel('Average total all civilian firearms')\n",
    "ax.set_ylabel('Number of homicides by firearm')\n"
   ]
  },
  {
   "cell_type": "markdown",
   "metadata": {},
   "source": [
    "Again, the US in the top right corner is a major outlier, having both the most firearms and the most homicides by firearm by far. "
   ]
  },
  {
   "cell_type": "code",
   "execution_count": 171,
   "metadata": {},
   "outputs": [
    {
     "data": {
      "text/plain": [
       "Text(0,0.5,'Number of homicides by firearm')"
      ]
     },
     "execution_count": 171,
     "metadata": {},
     "output_type": "execute_result"
    },
    {
     "data": {
      "image/png": "[encoded data removed]",
      "text/plain": [
       "<Figure size 720x360 with 1 Axes>"
      ]
     },
     "metadata": {},
     "output_type": "display_data"
    }
   ],
   "source": [
    "fig = pl.figure(figsize=(10,5))\n",
    "ax = fig.add_subplot(111)\n",
    "\n",
    "scatter = ax.scatter(df3['Average total all civilian firearms'],\n",
    "                     df3['Number of homicides by firearm'])\n",
    "\n",
    "ax.errorbar(df3['Average total all civilian firearms'], df3['Number of homicides by firearm'], \n",
    "            yerr = np.sqrt(df3['Number of homicides by firearm']*10), fmt = '.')\n",
    "\n",
    "ax.set_xlabel('Average total all civilian firearms')\n",
    "ax.set_ylabel('Number of homicides by firearm')"
   ]
  },
  {
   "cell_type": "markdown",
   "metadata": {},
   "source": [
    "** number of mass shootings against the number of civilian firearms **"
   ]
  },
  {
   "cell_type": "code",
   "execution_count": 172,
   "metadata": {},
   "outputs": [
    {
     "data": {
      "text/plain": [
       "Text(0,0.5,'Number of mass shootings (1983-2013)')"
      ]
     },
     "execution_count": 172,
     "metadata": {},
     "output_type": "execute_result"
    },
    {
     "data": {
      "image/png": "[encoded data removed]",
      "text/plain": [
       "<Figure size 720x360 with 1 Axes>"
      ]
     },
     "metadata": {},
     "output_type": "display_data"
    }
   ],
   "source": [
    "fig = pl.figure(figsize=(10,5))\n",
    "ax = fig.add_subplot(111)\n",
    "\n",
    "scatter = ax.scatter(df3['Average total all civilian firearms'],\n",
    "                     df3[\"Number of mass shootings (1983-2013)\"])\n",
    "\n",
    "ax.set_xlabel('Average total all civilian firearms')\n",
    "ax.set_ylabel(\"Number of mass shootings (1983-2013)\")\n"
   ]
  },
  {
   "cell_type": "code",
   "execution_count": 173,
   "metadata": {},
   "outputs": [
    {
     "data": {
      "text/plain": [
       "Text(0,0.5,'Number of mass shootings (1983-2013)')"
      ]
     },
     "execution_count": 173,
     "metadata": {},
     "output_type": "execute_result"
    },
    {
     "data": {
      "image/png": "[encoded data removed]",
      "text/plain": [
       "<Figure size 720x360 with 1 Axes>"
      ]
     },
     "metadata": {},
     "output_type": "display_data"
    }
   ],
   "source": [
    "fig = pl.figure(figsize=(10,5))\n",
    "ax = fig.add_subplot(111)\n",
    "\n",
    "scatter = ax.scatter(df3['Average total all civilian firearms'],\n",
    "                     df3[\"Number of mass shootings (1983-2013)\"])\n",
    "\n",
    "ax.errorbar(df3['Average total all civilian firearms'], df3['Number of homicides by firearm'], \n",
    "            yerr = np.sqrt(df3['Number of homicides by firearm']*10), fmt = '.')\n",
    "\n",
    "\n",
    "ax.set_xlabel('Average total all civilian firearms')\n",
    "ax.set_ylabel(\"Number of mass shootings (1983-2013)\")"
   ]
  },
  {
   "cell_type": "markdown",
   "metadata": {},
   "source": [
    "Again, the US is an outlier on the top right. Another outlier in terms of number of civillian firearms appears on the bottom left. "
   ]
  },
  {
   "cell_type": "markdown",
   "metadata": {},
   "source": [
    "** Modeling **"
   ]
  },
  {
   "cell_type": "code",
   "execution_count": 174,
   "metadata": {},
   "outputs": [
    {
     "data": {
      "text/html": [
       "<div>\n",
       "<style scoped>\n",
       "    .dataframe tbody tr th:only-of-type {\n",
       "        vertical-align: middle;\n",
       "    }\n",
       "\n",
       "    .dataframe tbody tr th {\n",
       "        vertical-align: top;\n",
       "    }\n",
       "\n",
       "    .dataframe thead th {\n",
       "        text-align: right;\n",
       "    }\n",
       "</style>\n",
       "<table border=\"1\" class=\"dataframe\">\n",
       "  <thead>\n",
       "    <tr style=\"text-align: right;\">\n",
       "      <th></th>\n",
       "      <th>Average total all civilian firearms</th>\n",
       "      <th>pop 2013</th>\n",
       "      <th>gpd,ppp 2013</th>\n",
       "      <th>Number of homicides by firearm</th>\n",
       "      <th>Guns per 100 inhabitants</th>\n",
       "      <th>Number of mass shootings (1983-2013)</th>\n",
       "      <th>gdp pp</th>\n",
       "      <th>shootings pp</th>\n",
       "      <th>shootingspp</th>\n",
       "    </tr>\n",
       "  </thead>\n",
       "  <tbody>\n",
       "    <tr>\n",
       "      <th>count</th>\n",
       "      <td>2.300000e+01</td>\n",
       "      <td>2.300000e+01</td>\n",
       "      <td>2.300000e+01</td>\n",
       "      <td>23.000000</td>\n",
       "      <td>23.000000</td>\n",
       "      <td>23.000000</td>\n",
       "      <td>23.000000</td>\n",
       "      <td>2.300000e+01</td>\n",
       "      <td>23.000000</td>\n",
       "    </tr>\n",
       "    <tr>\n",
       "      <th>mean</th>\n",
       "      <td>1.565543e+07</td>\n",
       "      <td>3.861960e+07</td>\n",
       "      <td>1.698955e+12</td>\n",
       "      <td>453.434783</td>\n",
       "      <td>23.786957</td>\n",
       "      <td>4.956522</td>\n",
       "      <td>44057.456531</td>\n",
       "      <td>1.226227e-07</td>\n",
       "      <td>0.000123</td>\n",
       "    </tr>\n",
       "    <tr>\n",
       "      <th>std</th>\n",
       "      <td>5.578880e+07</td>\n",
       "      <td>6.830168e+07</td>\n",
       "      <td>3.502131e+12</td>\n",
       "      <td>1897.064355</td>\n",
       "      <td>19.089581</td>\n",
       "      <td>16.046745</td>\n",
       "      <td>15398.230287</td>\n",
       "      <td>1.600733e-07</td>\n",
       "      <td>0.000160</td>\n",
       "    </tr>\n",
       "    <tr>\n",
       "      <th>min</th>\n",
       "      <td>7.000000e+04</td>\n",
       "      <td>3.237640e+05</td>\n",
       "      <td>1.386399e+10</td>\n",
       "      <td>0.000000</td>\n",
       "      <td>0.600000</td>\n",
       "      <td>0.000000</td>\n",
       "      <td>24463.199471</td>\n",
       "      <td>0.000000e+00</td>\n",
       "      <td>0.000000</td>\n",
       "    </tr>\n",
       "    <tr>\n",
       "      <th>25%</th>\n",
       "      <td>6.800000e+05</td>\n",
       "      <td>5.526952e+06</td>\n",
       "      <td>2.521923e+11</td>\n",
       "      <td>13.000000</td>\n",
       "      <td>11.150000</td>\n",
       "      <td>0.000000</td>\n",
       "      <td>36175.355903</td>\n",
       "      <td>0.000000e+00</td>\n",
       "      <td>0.000000</td>\n",
       "    </tr>\n",
       "    <tr>\n",
       "      <th>50%</th>\n",
       "      <td>2.400000e+06</td>\n",
       "      <td>1.045730e+07</td>\n",
       "      <td>4.384797e+11</td>\n",
       "      <td>30.000000</td>\n",
       "      <td>22.500000</td>\n",
       "      <td>1.000000</td>\n",
       "      <td>43519.777920</td>\n",
       "      <td>9.091094e-08</td>\n",
       "      <td>0.000091</td>\n",
       "    </tr>\n",
       "    <tr>\n",
       "      <th>75%</th>\n",
       "      <td>3.950000e+06</td>\n",
       "      <td>4.233012e+07</td>\n",
       "      <td>1.535133e+12</td>\n",
       "      <td>63.500000</td>\n",
       "      <td>31.000000</td>\n",
       "      <td>2.500000</td>\n",
       "      <td>47324.451221</td>\n",
       "      <td>1.878554e-07</td>\n",
       "      <td>0.000188</td>\n",
       "    </tr>\n",
       "    <tr>\n",
       "      <th>max</th>\n",
       "      <td>2.700000e+08</td>\n",
       "      <td>3.162345e+08</td>\n",
       "      <td>1.669152e+13</td>\n",
       "      <td>9146.000000</td>\n",
       "      <td>88.800000</td>\n",
       "      <td>78.000000</td>\n",
       "      <td>95590.538698</td>\n",
       "      <td>6.753563e-07</td>\n",
       "      <td>0.000675</td>\n",
       "    </tr>\n",
       "  </tbody>\n",
       "</table>\n",
       "</div>"
      ],
      "text/plain": [
       "       Average total all civilian firearms      pop 2013  gpd,ppp 2013  \\\n",
       "count                         2.300000e+01  2.300000e+01  2.300000e+01   \n",
       "mean                          1.565543e+07  3.861960e+07  1.698955e+12   \n",
       "std                           5.578880e+07  6.830168e+07  3.502131e+12   \n",
       "min                           7.000000e+04  3.237640e+05  1.386399e+10   \n",
       "25%                           6.800000e+05  5.526952e+06  2.521923e+11   \n",
       "50%                           2.400000e+06  1.045730e+07  4.384797e+11   \n",
       "75%                           3.950000e+06  4.233012e+07  1.535133e+12   \n",
       "max                           2.700000e+08  3.162345e+08  1.669152e+13   \n",
       "\n",
       "       Number of homicides by firearm  Guns per 100 inhabitants  \\\n",
       "count                       23.000000                 23.000000   \n",
       "mean                       453.434783                 23.786957   \n",
       "std                       1897.064355                 19.089581   \n",
       "min                          0.000000                  0.600000   \n",
       "25%                         13.000000                 11.150000   \n",
       "50%                         30.000000                 22.500000   \n",
       "75%                         63.500000                 31.000000   \n",
       "max                       9146.000000                 88.800000   \n",
       "\n",
       "       Number of mass shootings (1983-2013)        gdp pp  shootings pp  \\\n",
       "count                             23.000000     23.000000  2.300000e+01   \n",
       "mean                               4.956522  44057.456531  1.226227e-07   \n",
       "std                               16.046745  15398.230287  1.600733e-07   \n",
       "min                                0.000000  24463.199471  0.000000e+00   \n",
       "25%                                0.000000  36175.355903  0.000000e+00   \n",
       "50%                                1.000000  43519.777920  9.091094e-08   \n",
       "75%                                2.500000  47324.451221  1.878554e-07   \n",
       "max                               78.000000  95590.538698  6.753563e-07   \n",
       "\n",
       "       shootingspp  \n",
       "count    23.000000  \n",
       "mean      0.000123  \n",
       "std       0.000160  \n",
       "min       0.000000  \n",
       "25%       0.000000  \n",
       "50%       0.000091  \n",
       "75%       0.000188  \n",
       "max       0.000675  "
      ]
     },
     "execution_count": 174,
     "metadata": {},
     "output_type": "execute_result"
    }
   ],
   "source": [
    "df3.describe()"
   ]
  },
  {
   "cell_type": "code",
   "execution_count": 175,
   "metadata": {},
   "outputs": [],
   "source": [
    "df3['guns_small']=df3['Average total all civilian firearms']/1e7"
   ]
  },
  {
   "cell_type": "code",
   "execution_count": 181,
   "metadata": {},
   "outputs": [],
   "source": [
    "newg = sm.add_constant(df3['guns_small'])"
   ]
  },
  {
   "cell_type": "code",
   "execution_count": 217,
   "metadata": {},
   "outputs": [
    {
     "data": {
      "text/html": [
       "<table class=\"simpletable\">\n",
       "<caption>OLS Regression Results</caption>\n",
       "<tr>\n",
       "  <th>Dep. Variable:</th>       <td>shootingspp</td>   <th>  R-squared:         </th> <td>   0.027</td>\n",
       "</tr>\n",
       "<tr>\n",
       "  <th>Model:</th>                   <td>OLS</td>       <th>  Adj. R-squared:    </th> <td>  -0.020</td>\n",
       "</tr>\n",
       "<tr>\n",
       "  <th>Method:</th>             <td>Least Squares</td>  <th>  F-statistic:       </th> <td>  0.5725</td>\n",
       "</tr>\n",
       "<tr>\n",
       "  <th>Date:</th>             <td>Tue, 13 Nov 2018</td> <th>  Prob (F-statistic):</th>  <td> 0.458</td> \n",
       "</tr>\n",
       "<tr>\n",
       "  <th>Time:</th>                 <td>23:38:32</td>     <th>  Log-Likelihood:    </th> <td>  169.20</td>\n",
       "</tr>\n",
       "<tr>\n",
       "  <th>No. Observations:</th>      <td>    23</td>      <th>  AIC:               </th> <td>  -334.4</td>\n",
       "</tr>\n",
       "<tr>\n",
       "  <th>Df Residuals:</th>          <td>    21</td>      <th>  BIC:               </th> <td>  -332.1</td>\n",
       "</tr>\n",
       "<tr>\n",
       "  <th>Df Model:</th>              <td>     1</td>      <th>                     </th>     <td> </td>   \n",
       "</tr>\n",
       "<tr>\n",
       "  <th>Covariance Type:</th>      <td>nonrobust</td>    <th>                     </th>     <td> </td>   \n",
       "</tr>\n",
       "</table>\n",
       "<table class=\"simpletable\">\n",
       "<tr>\n",
       "       <td></td>         <th>coef</th>     <th>std err</th>      <th>t</th>      <th>P>|t|</th>  <th>[0.025</th>    <th>0.975]</th>  \n",
       "</tr>\n",
       "<tr>\n",
       "  <th>const</th>      <td>    0.0001</td> <td> 3.51e-05</td> <td>    3.288</td> <td> 0.004</td> <td> 4.24e-05</td> <td>    0.000</td>\n",
       "</tr>\n",
       "<tr>\n",
       "  <th>guns_small</th> <td> 4.674e-06</td> <td> 6.18e-06</td> <td>    0.757</td> <td> 0.458</td> <td>-8.17e-06</td> <td> 1.75e-05</td>\n",
       "</tr>\n",
       "</table>\n",
       "<table class=\"simpletable\">\n",
       "<tr>\n",
       "  <th>Omnibus:</th>       <td>25.255</td> <th>  Durbin-Watson:     </th> <td>   1.887</td>\n",
       "</tr>\n",
       "<tr>\n",
       "  <th>Prob(Omnibus):</th> <td> 0.000</td> <th>  Jarque-Bera (JB):  </th> <td>  40.864</td>\n",
       "</tr>\n",
       "<tr>\n",
       "  <th>Skew:</th>          <td> 2.124</td> <th>  Prob(JB):          </th> <td>1.34e-09</td>\n",
       "</tr>\n",
       "<tr>\n",
       "  <th>Kurtosis:</th>      <td> 7.959</td> <th>  Cond. No.          </th> <td>    5.92</td>\n",
       "</tr>\n",
       "</table><br/><br/>Warnings:<br/>[1] Standard Errors assume that the covariance matrix of the errors is correctly specified."
      ],
      "text/plain": [
       "<class 'statsmodels.iolib.summary.Summary'>\n",
       "\"\"\"\n",
       "                            OLS Regression Results                            \n",
       "==============================================================================\n",
       "Dep. Variable:            shootingspp   R-squared:                       0.027\n",
       "Model:                            OLS   Adj. R-squared:                 -0.020\n",
       "Method:                 Least Squares   F-statistic:                    0.5725\n",
       "Date:                Tue, 13 Nov 2018   Prob (F-statistic):              0.458\n",
       "Time:                        23:38:32   Log-Likelihood:                 169.20\n",
       "No. Observations:                  23   AIC:                            -334.4\n",
       "Df Residuals:                      21   BIC:                            -332.1\n",
       "Df Model:                           1                                         \n",
       "Covariance Type:            nonrobust                                         \n",
       "==============================================================================\n",
       "                 coef    std err          t      P>|t|      [0.025      0.975]\n",
       "------------------------------------------------------------------------------\n",
       "const          0.0001   3.51e-05      3.288      0.004    4.24e-05       0.000\n",
       "guns_small  4.674e-06   6.18e-06      0.757      0.458   -8.17e-06    1.75e-05\n",
       "==============================================================================\n",
       "Omnibus:                       25.255   Durbin-Watson:                   1.887\n",
       "Prob(Omnibus):                  0.000   Jarque-Bera (JB):               40.864\n",
       "Skew:                           2.124   Prob(JB):                     1.34e-09\n",
       "Kurtosis:                       7.959   Cond. No.                         5.92\n",
       "==============================================================================\n",
       "\n",
       "Warnings:\n",
       "[1] Standard Errors assume that the covariance matrix of the errors is correctly specified.\n",
       "\"\"\""
      ]
     },
     "execution_count": 217,
     "metadata": {},
     "output_type": "execute_result"
    }
   ],
   "source": [
    "ols1 = smf.OLS(df3['shootingspp'], newg).fit()\n",
    "ols1.summary()"
   ]
  },
  {
   "cell_type": "code",
   "execution_count": 214,
   "metadata": {},
   "outputs": [],
   "source": [
    "x=df3['guns_small']/10\n",
    "y=df3['shootingspp']/10\n",
    "y2 =df3['Number of mass shootings (1983-2013)']/10"
   ]
  },
  {
   "cell_type": "code",
   "execution_count": 215,
   "metadata": {},
   "outputs": [
    {
     "data": {
      "text/plain": [
       "<matplotlib.legend.Legend at 0x1c22723940>"
      ]
     },
     "execution_count": 215,
     "metadata": {},
     "output_type": "execute_result"
    },
    {
     "name": "stderr",
     "output_type": "stream",
     "text": [
      "/Users/katharinevoorhees/anaconda3/lib/python3.6/site-packages/matplotlib/figure.py:2267: UserWarning: This figure includes Axes that are not compatible with tight_layout, so results might be incorrect.\n",
      "  warnings.warn(\"This figure includes Axes that are not compatible \"\n"
     ]
    },
    {
     "data": {
      "image/png": "[encoded data removed]",
      "text/plain": [
       "<Figure size 576x432 with 1 Axes>"
      ]
     },
     "metadata": {},
     "output_type": "display_data"
    }
   ],
   "source": [
    "fig=pl.figure(figsize(8,6),tight_layout=True)\n",
    "ax=pl.axes()\n",
    "\n",
    "\n",
    "pl.scatter(x,y2, label= 'data', c='darkmagenta')\n",
    "pl.plot(x,ols1.fittedvalues, color='g', alpha=.7, label='ols')\n",
    "\n",
    "\n",
    "pl.xlabel('firearms',size=14)\n",
    "pl.ylabel('shootings per person',size=14)\n",
    "\n",
    "pl.title('')\n",
    "\n",
    "pl.legend()"
   ]
  },
  {
   "cell_type": "code",
   "execution_count": 216,
   "metadata": {},
   "outputs": [
    {
     "data": {
      "text/html": [
       "<table class=\"simpletable\">\n",
       "<caption>WLS Regression Results</caption>\n",
       "<tr>\n",
       "  <th>Dep. Variable:</th>       <td>shootingspp</td>   <th>  R-squared:         </th> <td>   0.006</td>\n",
       "</tr>\n",
       "<tr>\n",
       "  <th>Model:</th>                   <td>WLS</td>       <th>  Adj. R-squared:    </th> <td>  -0.041</td>\n",
       "</tr>\n",
       "<tr>\n",
       "  <th>Method:</th>             <td>Least Squares</td>  <th>  F-statistic:       </th> <td>  0.1334</td>\n",
       "</tr>\n",
       "<tr>\n",
       "  <th>Date:</th>             <td>Tue, 13 Nov 2018</td> <th>  Prob (F-statistic):</th>  <td> 0.719</td> \n",
       "</tr>\n",
       "<tr>\n",
       "  <th>Time:</th>                 <td>23:38:16</td>     <th>  Log-Likelihood:    </th> <td>  164.76</td>\n",
       "</tr>\n",
       "<tr>\n",
       "  <th>No. Observations:</th>      <td>    23</td>      <th>  AIC:               </th> <td>  -325.5</td>\n",
       "</tr>\n",
       "<tr>\n",
       "  <th>Df Residuals:</th>          <td>    21</td>      <th>  BIC:               </th> <td>  -323.2</td>\n",
       "</tr>\n",
       "<tr>\n",
       "  <th>Df Model:</th>              <td>     1</td>      <th>                     </th>     <td> </td>   \n",
       "</tr>\n",
       "<tr>\n",
       "  <th>Covariance Type:</th>      <td>nonrobust</td>    <th>                     </th>     <td> </td>   \n",
       "</tr>\n",
       "</table>\n",
       "<table class=\"simpletable\">\n",
       "<tr>\n",
       "       <td></td>         <th>coef</th>     <th>std err</th>      <th>t</th>      <th>P>|t|</th>  <th>[0.025</th>    <th>0.975]</th>  \n",
       "</tr>\n",
       "<tr>\n",
       "  <th>const</th>      <td> 7.968e-05</td> <td> 3.48e-05</td> <td>    2.290</td> <td> 0.032</td> <td> 7.32e-06</td> <td>    0.000</td>\n",
       "</tr>\n",
       "<tr>\n",
       "  <th>guns_small</th> <td> 8.836e-06</td> <td> 2.42e-05</td> <td>    0.365</td> <td> 0.719</td> <td>-4.15e-05</td> <td> 5.91e-05</td>\n",
       "</tr>\n",
       "</table>\n",
       "<table class=\"simpletable\">\n",
       "<tr>\n",
       "  <th>Omnibus:</th>       <td>28.440</td> <th>  Durbin-Watson:     </th> <td>   1.971</td>\n",
       "</tr>\n",
       "<tr>\n",
       "  <th>Prob(Omnibus):</th> <td> 0.000</td> <th>  Jarque-Bera (JB):  </th> <td>  55.805</td>\n",
       "</tr>\n",
       "<tr>\n",
       "  <th>Skew:</th>          <td> 2.267</td> <th>  Prob(JB):          </th> <td>7.62e-13</td>\n",
       "</tr>\n",
       "<tr>\n",
       "  <th>Kurtosis:</th>      <td> 9.138</td> <th>  Cond. No.          </th> <td>    1.49</td>\n",
       "</tr>\n",
       "</table><br/><br/>Warnings:<br/>[1] Standard Errors assume that the covariance matrix of the errors is correctly specified."
      ],
      "text/plain": [
       "<class 'statsmodels.iolib.summary.Summary'>\n",
       "\"\"\"\n",
       "                            WLS Regression Results                            \n",
       "==============================================================================\n",
       "Dep. Variable:            shootingspp   R-squared:                       0.006\n",
       "Model:                            WLS   Adj. R-squared:                 -0.041\n",
       "Method:                 Least Squares   F-statistic:                    0.1334\n",
       "Date:                Tue, 13 Nov 2018   Prob (F-statistic):              0.719\n",
       "Time:                        23:38:16   Log-Likelihood:                 164.76\n",
       "No. Observations:                  23   AIC:                            -325.5\n",
       "Df Residuals:                      21   BIC:                            -323.2\n",
       "Df Model:                           1                                         \n",
       "Covariance Type:            nonrobust                                         \n",
       "==============================================================================\n",
       "                 coef    std err          t      P>|t|      [0.025      0.975]\n",
       "------------------------------------------------------------------------------\n",
       "const       7.968e-05   3.48e-05      2.290      0.032    7.32e-06       0.000\n",
       "guns_small  8.836e-06   2.42e-05      0.365      0.719   -4.15e-05    5.91e-05\n",
       "==============================================================================\n",
       "Omnibus:                       28.440   Durbin-Watson:                   1.971\n",
       "Prob(Omnibus):                  0.000   Jarque-Bera (JB):               55.805\n",
       "Skew:                           2.267   Prob(JB):                     7.62e-13\n",
       "Kurtosis:                       9.138   Cond. No.                         1.49\n",
       "==============================================================================\n",
       "\n",
       "Warnings:\n",
       "[1] Standard Errors assume that the covariance matrix of the errors is correctly specified.\n",
       "\"\"\""
      ]
     },
     "execution_count": 216,
     "metadata": {},
     "output_type": "execute_result"
    }
   ],
   "source": [
    "\n",
    "wls1 = smf.WLS(df3['shootingspp'], newg, weights=1/np.sqrt(x)).fit()\n",
    "wls1.summary()"
   ]
  },
  {
   "cell_type": "code",
   "execution_count": 1,
   "metadata": {},
   "outputs": [
    {
     "ename": "NameError",
     "evalue": "name 'pl' is not defined",
     "output_type": "error",
     "traceback": [
      "\u001b[0;31m---------------------------------------------------------------------------\u001b[0m",
      "\u001b[0;31mNameError\u001b[0m                                 Traceback (most recent call last)",
      "\u001b[0;32m<ipython-input-1-77b94d8d6de4>\u001b[0m in \u001b[0;36m<module>\u001b[0;34m()\u001b[0m\n\u001b[0;32m----> 1\u001b[0;31m \u001b[0mfig\u001b[0m\u001b[0;34m=\u001b[0m\u001b[0mpl\u001b[0m\u001b[0;34m.\u001b[0m\u001b[0mfigure\u001b[0m\u001b[0;34m(\u001b[0m\u001b[0mfigsize\u001b[0m\u001b[0;34m(\u001b[0m\u001b[0;36m8\u001b[0m\u001b[0;34m,\u001b[0m\u001b[0;36m6\u001b[0m\u001b[0;34m)\u001b[0m\u001b[0;34m,\u001b[0m\u001b[0mtight_layout\u001b[0m\u001b[0;34m=\u001b[0m\u001b[0;32mTrue\u001b[0m\u001b[0;34m)\u001b[0m\u001b[0;34m\u001b[0m\u001b[0m\n\u001b[0m\u001b[1;32m      2\u001b[0m \u001b[0max\u001b[0m\u001b[0;34m=\u001b[0m\u001b[0mpl\u001b[0m\u001b[0;34m.\u001b[0m\u001b[0maxes\u001b[0m\u001b[0;34m(\u001b[0m\u001b[0;34m)\u001b[0m\u001b[0;34m\u001b[0m\u001b[0m\n\u001b[1;32m      3\u001b[0m \u001b[0;34m\u001b[0m\u001b[0m\n\u001b[1;32m      4\u001b[0m \u001b[0;34m\u001b[0m\u001b[0m\n\u001b[1;32m      5\u001b[0m \u001b[0mpl\u001b[0m\u001b[0;34m.\u001b[0m\u001b[0mscatter\u001b[0m\u001b[0;34m(\u001b[0m\u001b[0mx\u001b[0m\u001b[0;34m,\u001b[0m\u001b[0my2\u001b[0m\u001b[0;34m,\u001b[0m \u001b[0mlabel\u001b[0m\u001b[0;34m=\u001b[0m \u001b[0;34m'data'\u001b[0m\u001b[0;34m,\u001b[0m \u001b[0mc\u001b[0m\u001b[0;34m=\u001b[0m\u001b[0;34m'darkmagenta'\u001b[0m\u001b[0;34m)\u001b[0m\u001b[0;34m\u001b[0m\u001b[0m\n",
      "\u001b[0;31mNameError\u001b[0m: name 'pl' is not defined"
     ]
    }
   ],
   "source": [
    "fig=pl.figure(figsize(8,6),tight_layout=True)\n",
    "ax=pl.axes()\n",
    "\n",
    "\n",
    "pl.scatter(x,y2, label= 'data', c='darkmagenta')\n",
    "pl.plot(x,wls1.fittedvalues, color='b', alpha=.7, label='wls')\n",
    "\n",
    "\n",
    "pl.xlabel('firearms',size=14)\n",
    "pl.ylabel('shootings per person',size=14)\n",
    "\n",
    "pl.title('')\n",
    "\n",
    "#ax.set_xlim(xmin=0, xmax=.3)\n",
    "\n",
    "pl.legend()"
   ]
  },
  {
   "cell_type": "markdown",
   "metadata": {},
   "source": [
    "xmax was set to .3 which excludes the outlier of the us but allows "
   ]
  },
  {
   "cell_type": "code",
   "execution_count": null,
   "metadata": {},
   "outputs": [],
   "source": []
  }
 ],
 "metadata": {
  "kernelspec": {
   "display_name": "Python 3",
   "language": "python",
   "name": "python3"
  },
  "language_info": {
   "codemirror_mode": {
    "name": "ipython",
    "version": 3
   },
   "file_extension": ".py",
   "mimetype": "text/x-python",
   "name": "python",
   "nbconvert_exporter": "python",
   "pygments_lexer": "ipython3",
   "version": "3.6.5"
  }
 },
 "nbformat": 4,
 "nbformat_minor": 2
}
